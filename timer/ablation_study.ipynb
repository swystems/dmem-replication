{
 "cells": [
  {
   "cell_type": "markdown",
   "id": "b29140f6-4f6b-40b0-ab06-191a9b060350",
   "metadata": {},
   "source": [
    "# ablation study\n",
    "How accurate can we make a recurring timer in a linux server?"
   ]
  },
  {
   "cell_type": "code",
   "execution_count": 1,
   "id": "366a4f5e-4ef3-4b20-bbe5-6538f922502e",
   "metadata": {},
   "outputs": [],
   "source": [
    "import numpy as np\n",
    "import matplotlib.pyplot as plt\n"
   ]
  },
  {
   "cell_type": "code",
   "execution_count": 3,
   "id": "94b222f5-742a-496f-aa73-0ec44e3f6893",
   "metadata": {},
   "outputs": [
    {
     "name": "stdout",
     "output_type": "stream",
     "text": [
      "\u001b[1m\u001b[32m    Finished\u001b[0m \u001b]8;;https://doc.rust-lang.org/cargo/reference/profiles.html#default-profiles\u001b\\`dev` profile [unoptimized + debuginfo]\u001b]8;;\u001b\\ target(s) in 0.01s\n",
      "\u001b[1m\u001b[32m     Running\u001b[0m `target/debug/sleep -s 10000 -a 100000 -r 0`\n",
      "Desired sleep duration of 10000 nanoseconds: 100000 runs\n",
      "Avg: 10.099µs\n",
      "Std: 332ns\n",
      "Max: 39.677µs\n",
      "Min: 10.052µs\n",
      "jitter: 29.625us\n"
     ]
    }
   ],
   "source": [
    "# compile userspace timer test\n",
    "!cargo run -- -s 10000 -a 100000 -r 0"
   ]
  },
  {
   "cell_type": "code",
   "execution_count": null,
   "id": "e995200c-50ba-45e3-a544-af2f418d4f48",
   "metadata": {},
   "outputs": [
    {
     "name": "stdout",
     "output_type": "stream",
     "text": [
      "stress-ng: info:  [41313] defaulting to a 1 day run per stressor\n",
      "stress-ng: info:  [41313] dispatching hogs: 4 cpu\n",
      "stress-ng: info:  [41314] cpu: for stable load results, select a specific cpu stress method with --cpu-method other than 'all'\n",
      "stress-ng: info:  [41315] cpu: for stable load results, select a specific cpu stress method with --cpu-method other than 'all'\n",
      "stress-ng: info:  [41316] cpu: for stable load results, select a specific cpu stress method with --cpu-method other than 'all'\n",
      "stress-ng: info:  [41317] cpu: for stable load results, select a specific cpu stress method with --cpu-method other than 'all'\n"
     ]
    }
   ],
   "source": [
    "# stress test cpus\n",
    "!stress-ng -l 50 -c 4 "
   ]
  },
  {
   "cell_type": "code",
   "execution_count": null,
   "id": "918e2c06-d987-4e78-8fb3-2bcfa668f432",
   "metadata": {},
   "outputs": [],
   "source": [
    "!pkill stress-ng"
   ]
  },
  {
   "cell_type": "code",
   "execution_count": null,
   "id": "59899564-e6d4-4c9c-8862-448892750114",
   "metadata": {},
   "outputs": [],
   "source": []
  }
 ],
 "metadata": {
  "kernelspec": {
   "display_name": "Python 3 (ipykernel)",
   "language": "python",
   "name": "python3"
  },
  "language_info": {
   "codemirror_mode": {
    "name": "ipython",
    "version": 3
   },
   "file_extension": ".py",
   "mimetype": "text/x-python",
   "name": "python",
   "nbconvert_exporter": "python",
   "pygments_lexer": "ipython3",
   "version": "3.13.3"
  }
 },
 "nbformat": 4,
 "nbformat_minor": 5
}
