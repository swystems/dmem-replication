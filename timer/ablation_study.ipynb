{
 "cells": [
  {
   "cell_type": "markdown",
   "id": "b29140f6-4f6b-40b0-ab06-191a9b060350",
   "metadata": {},
   "source": [
    "# ablation study\n",
    "How accurate can we make a recurring timer in a linux server?"
   ]
  },
  {
   "cell_type": "code",
   "execution_count": 1,
   "id": "366a4f5e-4ef3-4b20-bbe5-6538f922502e",
   "metadata": {},
   "outputs": [],
   "source": [
    "import numpy as np\n",
    "import matplotlib.pyplot as plt\n",
    "import subprocess\n",
    "import pandas as pd\n"
   ]
  },
  {
   "cell_type": "code",
   "execution_count": 2,
   "id": "94b222f5-742a-496f-aa73-0ec44e3f6893",
   "metadata": {},
   "outputs": [
    {
     "name": "stdout",
     "output_type": "stream",
     "text": [
      "\u001b[1m\u001b[32m    Finished\u001b[0m \u001b]8;;https://doc.rust-lang.org/cargo/reference/profiles.html#default-profiles\u001b\\`release` profile [optimized + debuginfo]\u001b]8;;\u001b\\ target(s) in 0.04s\n"
     ]
    }
   ],
   "source": [
    "# compile userspace timer test\n",
    "!cargo build --release"
   ]
  },
  {
   "cell_type": "code",
   "execution_count": 3,
   "id": "e995200c-50ba-45e3-a544-af2f418d4f48",
   "metadata": {},
   "outputs": [],
   "source": [
    "# stress test cpus\n",
    "# run on system directly\n",
    "#!stress-ng -l 50 -c 1 --cpu-method rand"
   ]
  },
  {
   "cell_type": "code",
   "execution_count": null,
   "id": "59899564-e6d4-4c9c-8862-448892750114",
   "metadata": {},
   "outputs": [
    {
     "name": "stdout",
     "output_type": "stream",
     "text": [
      "The results for an interval of 10 ns are: \n",
      "            avg      std        max      min        jit cpu_cycles\n",
      "0.000      75ns     40ns    3.881µs     73ns    3.808us  7,781,233\n",
      "0.001  54.436µs  7.649µs  171.653µs  4.277µs  167.376us  7,093,759\n",
      "0.010  54.299µs  7.808µs  188.333µs  1.716µs  186.617us  7,093,668\n",
      "0.100  53.882µs  7.839µs  197.046µs  2.499µs  194.547us  7,093,718\n",
      "0.200  53.544µs  7.782µs  157.377µs  5.595µs  151.782us  7,092,976\n",
      "0.300  54.724µs  7.009µs  174.736µs  1.554µs  173.182us  7,092,759\n",
      "0.400  54.505µs  7.692µs  169.462µs  4.225µs  165.237us  7,093,300\n",
      "0.500  53.268µs  8.101µs  180.822µs  2.111µs  178.711us  7,093,270\n",
      "0.600   53.99µs  7.601µs  170.463µs  2.494µs  167.969us  7,093,507\n",
      "0.700  54.036µs   12.2µs  936.182µs  2.305µs  933.877us  7,093,139\n",
      "0.800  53.314µs   8.27µs  156.951µs  2.775µs  154.176us  7,093,479\n",
      "0.900  53.442µs  8.336µs  187.008µs   1.42µs  185.588us  7,092,888\n",
      "1.000  53.092µs  8.255µs  169.049µs      2µs  167.049us  7,093,132\n",
      "The results for an interval of 100 ns are: \n",
      "            avg      std        max      min        jit  cpu_cycles\n",
      "0.000     201ns     73ns    5.328µs    163ns    5.165us  11,060,958\n",
      "0.001  53.208µs  8.449µs  175.945µs  4.235µs   171.71us   7,093,530\n",
      "0.010  53.094µs  7.888µs   98.637µs  6.491µs   92.146us   7,093,136\n",
      "0.100  53.155µs  8.641µs  179.423µs  2.488µs  176.935us   7,093,713\n",
      "0.200  53.449µs   8.01µs  151.797µs  2.157µs   149.64us   7,092,763\n",
      "0.300  53.602µs   7.93µs  173.897µs  6.703µs  167.194us   7,093,777\n",
      "0.400  53.265µs  8.381µs  227.296µs  2.864µs  224.432us   7,093,278\n",
      "0.500  53.334µs  8.124µs  178.608µs  2.699µs  175.909us   7,093,311\n",
      "0.600  52.961µs  8.238µs  136.939µs  6.458µs  130.481us   7,093,232\n",
      "0.700  53.528µs   7.88µs  173.779µs  1.602µs  172.177us   7,093,190\n",
      "0.800  53.222µs  8.538µs  213.143µs  2.348µs  210.795us   7,092,843\n",
      "0.900  52.813µs  8.623µs  161.571µs   6.42µs  155.151us   7,093,002\n",
      "1.000  53.961µs  7.988µs  185.955µs  2.097µs  183.858us   7,093,431\n",
      "The results for an interval of 1.0 µs are: \n",
      "            avg      std        max      min        jit  cpu_cycles\n",
      "0.000   1.087µs    205ns   17.554µs   1.05µs   16.504us  35,804,507\n",
      "0.001  53.821µs  7.638µs  160.949µs  2.003µs  158.946us   7,093,142\n",
      "0.010   52.97µs   8.58µs  190.619µs  6.531µs  184.088us   7,093,584\n",
      "0.100  54.199µs  7.691µs  195.637µs  1.591µs  194.046us   7,093,143\n",
      "0.200  52.896µs  9.032µs  170.129µs  6.466µs  163.663us   7,093,440\n",
      "0.300  52.791µs  9.283µs  135.341µs  6.414µs  128.927us   7,093,234\n",
      "0.400  52.901µs  9.918µs  197.575µs  6.362µs  191.213us   7,093,360\n",
      "0.500  53.151µs  9.741µs   176.43µs  6.423µs  170.007us   7,093,531\n",
      "0.600  53.124µs  9.972µs  178.468µs  6.342µs  172.126us   7,093,021\n",
      "0.700  53.978µs  8.624µs   178.37µs  6.343µs  172.027us   7,093,312\n",
      "0.800   54.39µs   7.38µs  167.344µs  6.392µs  160.952us   7,093,369\n",
      "0.900  55.348µs  4.984µs  195.891µs  6.425µs  189.466us   7,093,245\n",
      "1.000  55.494µs  3.134µs  171.683µs   6.48µs  165.203us   7,093,262\n",
      "The results for an interval of 10.0 µs are: \n",
      "            avg       std        max       min        jit   cpu_cycles\n",
      "0.000  10.087µs     236ns   32.355µs   10.05µs   22.305us  303,320,041\n",
      "0.001  54.267µs   7.492µs  169.553µs  10.043µs   159.51us    7,279,535\n",
      "0.010   52.94µs   8.617µs  188.153µs   10.07µs  178.083us    7,288,881\n",
      "0.100    55.7µs   4.762µs  199.056µs  10.144µs  188.912us    7,162,367\n",
      "0.200  55.617µs   5.765µs  166.965µs  10.063µs  156.902us    7,190,826\n",
      "0.300  55.678µs   8.607µs  178.429µs  10.074µs  168.355us    7,102,658\n",
      "0.400  57.908µs    6.53µs  186.289µs  10.038µs  176.251us    7,159,158\n",
      "0.500  58.879µs   3.999µs   166.45µs  12.979µs  153.471us    7,093,044\n",
      "0.600  58.856µs   7.144µs   146.13µs  13.602µs  132.528us    7,093,502\n",
      "0.700  59.482µs  10.185µs  177.041µs  11.915µs  165.126us    7,093,393\n",
      "0.800  62.525µs   2.926µs  183.409µs  15.705µs  167.704us    7,092,801\n",
      "0.900  62.701µs   5.351µs  173.946µs  16.795µs  157.151us    7,093,711\n",
      "1.000  62.795µs   8.648µs  176.137µs  15.069µs  161.068us    7,093,744\n"
     ]
    }
   ],
   "source": [
    "def unit_to_ns(unit):\n",
    "    unit_type = unit[-2:]\n",
    "    val = float(unit[:-2])\n",
    "    if unit_type == \"µs\" or unit_type == \"us\":\n",
    "        return val *1000        \n",
    "    if unit_type == \"ms\":\n",
    "        return val * 1000000\n",
    "    if unit_type == \"ns\":\n",
    "        return val\n",
    "\n",
    "def parse_result(result):\n",
    "    stdout_lines = result.stdout.splitlines()\n",
    "    stderr_lines = result.stderr.splitlines()\n",
    "    stderr_lines = [l.strip() for l in stderr_lines]\n",
    "    data = {}\n",
    "    data[\"avg\"] = stdout_lines[1].split(\": \")[1]\n",
    "    data[\"std\"] = stdout_lines[2].split(\": \")[1]\n",
    "    data[\"max\"] = stdout_lines[3].split(\": \")[1]\n",
    "    data[\"min\"] = stdout_lines[4].split(\": \")[1]\n",
    "    data[\"jit\"] = stdout_lines[5].split(\": \")[1]\n",
    "\n",
    "    data_ns = {k: unit_to_ns(v) for k,v in data.items()}\n",
    "    data[\"cpu_cycles\"] = data_ns[\"cpu_cycles\"] = stderr_lines[7].split(\" \")[0]\n",
    "    \n",
    "    return data, data_ns\n",
    "    \n",
    "program = \"target/release/bpsleep\"\n",
    "# intervals = [10, 15, 100, 150, 1000, 1500, 10000, \n",
    "                 # 15000,30000,50000, 70000, 80000, 90000, 100000,\n",
    "                 # 150000, 1000000, 1500000, 10000000, 15000000]\n",
    "intervals = [10, 100, 1000, 10000, 100000, 10000000]\n",
    "# intervals = [10, 100, 1000, 10000, 100000, 1000000, 10000000]\n",
    "\n",
    "# sleep to busypoll ratios: 0 -> only busy-poll, 1 -> only sleep\n",
    "ratios = [0, 0.001, 0.01, 0.1, 0.2, 0.3, 0.4, 0.5, 0.6, 0.7, 0.8, 0.9, 1.0]\n",
    "attempts = 10000\n",
    "interval_to_err_to_threshold = {}\n",
    "\n",
    "timer_accuracy_ns = {}\n",
    "\n",
    "for interval in intervals:\n",
    "    interval_results_pretty = []\n",
    "    interval_results_ns = []\n",
    "    for r in ratios:\n",
    "        # perf stat -- target/release/performance -s 10000 -a 100000 -r 0\n",
    "        result = subprocess.run([\"perf\", \"stat\", \"--\", program, \"-r\", f\"{r}\" , \"-s\", f\"{interval}\", \"-a\", f\"{attempts}\"], capture_output=True, text=True)\n",
    "        out,out_ns = parse_result(result)\n",
    "        interval_results_pretty.append(out)\n",
    "        interval_results_ns.append(out_ns)\n",
    "\n",
    "    # print(data)\n",
    "    print(f\"The results for an interval of {interval_to_unit(interval)} are: \")\n",
    "    # thresholds = [interval_to_unit(interval * ratio) for ratio in ratios]\n",
    "    print(pd.DataFrame(interval_results_pretty, index=ratios))\n",
    "\n",
    "    # update global test dictionary\n",
    "    # print(interval_results_ns)\n",
    "    timer_accuracy_ns[interval] = pd.DataFrame(interval_results_ns, index=ratios)\n",
    "    # interval_to_err_to_threshold[interval] = tmp.to_dict()\n",
    "    # print(dataframe.to_latex())\n",
    "    # print(\"\\\\\\\\\")\n",
    "# print(interval_to_err_to_threshold)\n",
    "\n"
   ]
  },
  {
   "cell_type": "code",
   "execution_count": 22,
   "id": "b8ff6b26-521e-4d57-8c0d-9c00d2517722",
   "metadata": {},
   "outputs": [
    {
     "name": "stdout",
     "output_type": "stream",
     "text": [
      "           avg     std       max     min       jit cpu_cycles\n",
      "0.000     74.0     4.0     204.0    73.0     131.0  1,109,872\n",
      "0.001  55143.0  7121.0  157830.0  3839.0  153991.0  1,043,841\n",
      "0.010  55305.0  6488.0   96291.0  7691.0   88600.0  1,043,659\n",
      "0.100  53413.0  7878.0   93499.0  6633.0   86866.0  1,043,393\n",
      "0.200  54246.0  8198.0  140881.0  2786.0  138095.0  1,043,138\n",
      "0.300  53299.0  8321.0  107466.0  6662.0  100804.0  1,043,296\n",
      "0.400  53393.0  7448.0   85271.0  6760.0   78511.0  1,043,329\n",
      "0.500  53091.0  8961.0  144684.0  3209.0  141475.0  1,043,370\n",
      "0.600  53009.0  8444.0   91283.0  6703.0   84580.0  1,043,476\n",
      "0.700  54103.0  7799.0  155042.0  8496.0  146546.0  1,043,540\n",
      "0.800  54921.0  7015.0  164251.0  8420.0  155831.0  1,043,310\n",
      "0.900  54419.0  7613.0  160455.0  3786.0  156669.0  1,043,763\n",
      "1.000  54411.0  6269.0   85796.0  6919.0   78877.0  1,043,715\n"
     ]
    }
   ],
   "source": [
    "print(timer_accuracy_ns[10])"
   ]
  },
  {
   "cell_type": "code",
   "execution_count": 28,
   "id": "4e514be1-1715-455d-bdb3-0e86c305aef3",
   "metadata": {},
   "outputs": [
    {
     "data": {
      "image/png": "[encoded data removed]",
      "text/plain": [
       "<Figure size 640x480 with 1 Axes>"
      ]
     },
     "metadata": {},
     "output_type": "display_data"
    }
   ],
   "source": [
    "# fig, ax = plt.subplots()\n",
    "\n",
    "timer_accuracy_ns[10][[\"min\",\"jit\"]].plot()\n",
    "plt.show()"
   ]
  },
  {
   "cell_type": "code",
   "execution_count": null,
   "id": "e8962fac-6517-4209-9511-2801c0bda187",
   "metadata": {},
   "outputs": [],
   "source": []
  }
 ],
 "metadata": {
  "kernelspec": {
   "display_name": "Python 3 (ipykernel)",
   "language": "python",
   "name": "python3"
  },
  "language_info": {
   "codemirror_mode": {
    "name": "ipython",
    "version": 3
   },
   "file_extension": ".py",
   "mimetype": "text/x-python",
   "name": "python",
   "nbconvert_exporter": "python",
   "pygments_lexer": "ipython3",
   "version": "3.13.3"
  }
 },
 "nbformat": 4,
 "nbformat_minor": 5
}
